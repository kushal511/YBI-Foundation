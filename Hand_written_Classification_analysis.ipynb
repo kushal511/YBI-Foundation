{
 "cells": [
  {
   "cell_type": "markdown",
   "metadata": {
    "id": "8R3l5gg-RWEs"
   },
   "source": [
    "**Hand Written Digit Prediction- Classification Analysis**"
   ]
  },
  {
   "cell_type": "markdown",
   "metadata": {
    "id": "Wh8fKsnGRr8y"
   },
   "source": [
    "**Import Library**"
   ]
  },
  {
   "cell_type": "code",
   "execution_count": null,
   "metadata": {
    "id": "nB27ri6wOggl"
   },
   "outputs": [],
   "source": [
    "import pandas as pd\n",
    "import numpy as np\n",
    "import matplotlib.pyplot as plt"
   ]
  },
  {
   "cell_type": "markdown",
   "metadata": {
    "id": "pVdIS7AqSBaI"
   },
   "source": [
    "**Import Data**"
   ]
  },
  {
   "cell_type": "code",
   "execution_count": 3,
   "metadata": {
    "colab": {
     "base_uri": "https://localhost:8080/",
     "height": 168
    },
    "id": "TEQDn4h4R9oi",
    "outputId": "fe0c66a1-d9b4-4a66-971d-ff5c56a15227"
   },
   "outputs": [
    {
     "data": {
      "image/png": "[encoded data removed]",
      "text/plain": [
       "<Figure size 720x216 with 4 Axes>"
      ]
     },
     "metadata": {
      "needs_background": "light"
     },
     "output_type": "display_data"
    }
   ],
   "source": [
    "from sklearn.datasets import load_digits\n",
    "df = load_digits()\n",
    "_,axes = plt.subplots(nrows=1, ncols=4, figsize=(10,3))\n",
    "for ax,image,label in zip(axes,df.images,df.target):\n",
    "  ax.set_axis_off()\n",
    "  ax.imshow(image, cmap=plt.cm.gray_r, interpolation=\"nearest\")\n",
    "  ax.set_title(\"Training: %i\" % label)\n",
    "  "
   ]
  },
  {
   "cell_type": "markdown",
   "metadata": {
    "id": "latV6OIoRUhT"
   },
   "source": [
    "**Data Preprocessing**"
   ]
  },
  {
   "cell_type": "code",
   "execution_count": 5,
   "metadata": {
    "colab": {
     "base_uri": "https://localhost:8080/"
    },
    "id": "CDDD8t3DVNQP",
    "outputId": "b754c653-2c8f-4b6b-82f0-0253701156f4"
   },
   "outputs": [
    {
     "data": {
      "text/plain": [
       "(1797, 8, 8)"
      ]
     },
     "execution_count": 5,
     "metadata": {},
     "output_type": "execute_result"
    }
   ],
   "source": [
    "df.images.shape"
   ]
  },
  {
   "cell_type": "code",
   "execution_count": 6,
   "metadata": {
    "colab": {
     "base_uri": "https://localhost:8080/"
    },
    "id": "H08pU-OQXC3B",
    "outputId": "05915f3c-e4a9-4eba-948a-2965e775613b"
   },
   "outputs": [
    {
     "data": {
      "text/plain": [
       "array([[ 0.,  0.,  5., 13.,  9.,  1.,  0.,  0.],\n",
       "       [ 0.,  0., 13., 15., 10., 15.,  5.,  0.],\n",
       "       [ 0.,  3., 15.,  2.,  0., 11.,  8.,  0.],\n",
       "       [ 0.,  4., 12.,  0.,  0.,  8.,  8.,  0.],\n",
       "       [ 0.,  5.,  8.,  0.,  0.,  9.,  8.,  0.],\n",
       "       [ 0.,  4., 11.,  0.,  1., 12.,  7.,  0.],\n",
       "       [ 0.,  2., 14.,  5., 10., 12.,  0.,  0.],\n",
       "       [ 0.,  0.,  6., 13., 10.,  0.,  0.,  0.]])"
      ]
     },
     "execution_count": 6,
     "metadata": {},
     "output_type": "execute_result"
    }
   ],
   "source": [
    "df.images[0]"
   ]
  },
  {
   "cell_type": "code",
   "execution_count": 7,
   "metadata": {
    "colab": {
     "base_uri": "https://localhost:8080/"
    },
    "id": "EUgtAfKuXQFI",
    "outputId": "c86e3dfd-e037-43a7-e082-5827dd2bb999"
   },
   "outputs": [
    {
     "data": {
      "text/plain": [
       "(8, 8)"
      ]
     },
     "execution_count": 7,
     "metadata": {},
     "output_type": "execute_result"
    }
   ],
   "source": [
    "df.images[0].shape"
   ]
  },
  {
   "cell_type": "code",
   "execution_count": 8,
   "metadata": {
    "id": "R3EnBeqSXVs9"
   },
   "outputs": [],
   "source": [
    "n_samples = len(df.images)\n",
    "data = df.images.reshape((n_samples,-1))"
   ]
  },
  {
   "cell_type": "code",
   "execution_count": 9,
   "metadata": {
    "colab": {
     "base_uri": "https://localhost:8080/"
    },
    "id": "eds3VX68YHXY",
    "outputId": "1809eb13-082e-4fef-f4d1-17d7dc0b0cfa"
   },
   "outputs": [
    {
     "data": {
      "text/plain": [
       "array([ 0.,  0.,  5., 13.,  9.,  1.,  0.,  0.,  0.,  0., 13., 15., 10.,\n",
       "       15.,  5.,  0.,  0.,  3., 15.,  2.,  0., 11.,  8.,  0.,  0.,  4.,\n",
       "       12.,  0.,  0.,  8.,  8.,  0.,  0.,  5.,  8.,  0.,  0.,  9.,  8.,\n",
       "        0.,  0.,  4., 11.,  0.,  1., 12.,  7.,  0.,  0.,  2., 14.,  5.,\n",
       "       10., 12.,  0.,  0.,  0.,  0.,  6., 13., 10.,  0.,  0.,  0.])"
      ]
     },
     "execution_count": 9,
     "metadata": {},
     "output_type": "execute_result"
    }
   ],
   "source": [
    "data[0]"
   ]
  },
  {
   "cell_type": "code",
   "execution_count": 10,
   "metadata": {
    "colab": {
     "base_uri": "https://localhost:8080/"
    },
    "id": "pPkSXwEQYP6I",
    "outputId": "70afa76e-9b00-4a5a-d29e-9da9298484b2"
   },
   "outputs": [
    {
     "data": {
      "text/plain": [
       "(64,)"
      ]
     },
     "execution_count": 10,
     "metadata": {},
     "output_type": "execute_result"
    }
   ],
   "source": [
    "data[0].shape"
   ]
  },
  {
   "cell_type": "code",
   "execution_count": 11,
   "metadata": {
    "colab": {
     "base_uri": "https://localhost:8080/"
    },
    "id": "nG4x44uaYTZ-",
    "outputId": "e5407c71-353c-4023-f56a-4fc1184617df"
   },
   "outputs": [
    {
     "data": {
      "text/plain": [
       "(1797, 64)"
      ]
     },
     "execution_count": 11,
     "metadata": {},
     "output_type": "execute_result"
    }
   ],
   "source": [
    "data.shape"
   ]
  },
  {
   "cell_type": "markdown",
   "metadata": {
    "id": "pHqaP8vcYfSh"
   },
   "source": [
    "**Scaling Data**"
   ]
  },
  {
   "cell_type": "code",
   "execution_count": 12,
   "metadata": {
    "colab": {
     "base_uri": "https://localhost:8080/"
    },
    "id": "3UlwzA4DYXFC",
    "outputId": "54c58a44-cbc0-4cc3-88b6-61fe05f00743"
   },
   "outputs": [
    {
     "data": {
      "text/plain": [
       "0.0"
      ]
     },
     "execution_count": 12,
     "metadata": {},
     "output_type": "execute_result"
    }
   ],
   "source": [
    "data.min()"
   ]
  },
  {
   "cell_type": "code",
   "execution_count": 13,
   "metadata": {
    "colab": {
     "base_uri": "https://localhost:8080/"
    },
    "id": "-mbS-fNEYl3v",
    "outputId": "38f9a02c-2d0a-4ed6-8b44-e241e3ace267"
   },
   "outputs": [
    {
     "data": {
      "text/plain": [
       "16.0"
      ]
     },
     "execution_count": 13,
     "metadata": {},
     "output_type": "execute_result"
    }
   ],
   "source": [
    "data.max()"
   ]
  },
  {
   "cell_type": "code",
   "execution_count": 14,
   "metadata": {
    "id": "1ohExTg2Ynnj"
   },
   "outputs": [],
   "source": [
    "data = data/16"
   ]
  },
  {
   "cell_type": "code",
   "execution_count": 15,
   "metadata": {
    "colab": {
     "base_uri": "https://localhost:8080/"
    },
    "id": "8psF5YqGY46o",
    "outputId": "5e2e4daa-b7d9-46a0-d297-ad718d605ec5"
   },
   "outputs": [
    {
     "data": {
      "text/plain": [
       "0.0"
      ]
     },
     "execution_count": 15,
     "metadata": {},
     "output_type": "execute_result"
    }
   ],
   "source": [
    "data.min()"
   ]
  },
  {
   "cell_type": "code",
   "execution_count": 16,
   "metadata": {
    "colab": {
     "base_uri": "https://localhost:8080/"
    },
    "id": "OXZAKBIYY9n6",
    "outputId": "3cbbc3b1-9c6f-44f0-fe58-41b5a3427553"
   },
   "outputs": [
    {
     "data": {
      "text/plain": [
       "1.0"
      ]
     },
     "execution_count": 16,
     "metadata": {},
     "output_type": "execute_result"
    }
   ],
   "source": [
    "data.max()"
   ]
  },
  {
   "cell_type": "markdown",
   "metadata": {
    "id": "pflFLVu3ZChi"
   },
   "source": [
    "**Train Test Split Data**"
   ]
  },
  {
   "cell_type": "code",
   "execution_count": 17,
   "metadata": {
    "id": "IuIZ0aaDY-zT"
   },
   "outputs": [],
   "source": [
    "from sklearn.model_selection import train_test_split\n"
   ]
  },
  {
   "cell_type": "code",
   "execution_count": 24,
   "metadata": {
    "id": "pzTdnDuPZjRN"
   },
   "outputs": [],
   "source": [
    "X_train,X_test,y_train,y_test = train_test_split(data,df.target,test_size=0.3)\n"
   ]
  },
  {
   "cell_type": "code",
   "execution_count": 25,
   "metadata": {
    "colab": {
     "base_uri": "https://localhost:8080/"
    },
    "id": "t3on1sfEaEEF",
    "outputId": "19bd4ae3-4449-47d8-cabe-3db47df031ef"
   },
   "outputs": [
    {
     "data": {
      "text/plain": [
       "((1257, 64), (540, 64), (1257,), (540,))"
      ]
     },
     "execution_count": 25,
     "metadata": {},
     "output_type": "execute_result"
    }
   ],
   "source": [
    "X_train.shape, X_test.shape, y_train.shape, y_test.shape"
   ]
  },
  {
   "cell_type": "markdown",
   "metadata": {
    "id": "1ySY5Axza57y"
   },
   "source": [
    "**Random Forest Model**"
   ]
  },
  {
   "cell_type": "code",
   "execution_count": 26,
   "metadata": {
    "id": "0aCCRCEYaySj"
   },
   "outputs": [],
   "source": [
    "from sklearn.ensemble import RandomForestClassifier"
   ]
  },
  {
   "cell_type": "code",
   "execution_count": 27,
   "metadata": {
    "id": "OP-4l1EEbMJK"
   },
   "outputs": [],
   "source": [
    "rf = RandomForestClassifier()"
   ]
  },
  {
   "cell_type": "code",
   "execution_count": 28,
   "metadata": {
    "colab": {
     "base_uri": "https://localhost:8080/"
    },
    "id": "nXQCQRMwbZs_",
    "outputId": "c7923f35-3bff-425f-ad11-4ae953419f8d"
   },
   "outputs": [
    {
     "data": {
      "text/plain": [
       "RandomForestClassifier()"
      ]
     },
     "execution_count": 28,
     "metadata": {},
     "output_type": "execute_result"
    }
   ],
   "source": [
    "rf.fit(X_train,y_train)"
   ]
  },
  {
   "cell_type": "markdown",
   "metadata": {
    "id": "-62hjtNLbh8F"
   },
   "source": [
    "**Predict Test Data**"
   ]
  },
  {
   "cell_type": "code",
   "execution_count": 29,
   "metadata": {
    "id": "GkfaYThlbdQH"
   },
   "outputs": [],
   "source": [
    "y_pred = rf.predict(X_test)"
   ]
  },
  {
   "cell_type": "code",
   "execution_count": 30,
   "metadata": {
    "colab": {
     "base_uri": "https://localhost:8080/"
    },
    "id": "NbMxcOMfbsTC",
    "outputId": "276c6b86-eee4-4810-83b1-7c9cc33d1ed7"
   },
   "outputs": [
    {
     "data": {
      "text/plain": [
       "array([3, 5, 9, 2, 4, 1, 9, 9, 6, 5, 7, 3, 0, 1, 9, 0, 2, 9, 1, 5, 5, 0,\n",
       "       8, 6, 1, 1, 0, 9, 0, 0, 2, 1, 1, 7, 5, 5, 1, 7, 3, 4, 2, 9, 3, 9,\n",
       "       6, 2, 9, 4, 4, 0, 3, 6, 3, 4, 4, 8, 2, 5, 3, 0, 1, 9, 0, 8, 6, 4,\n",
       "       8, 2, 6, 9, 6, 4, 5, 6, 3, 0, 6, 1, 5, 4, 2, 5, 1, 2, 0, 3, 5, 1,\n",
       "       2, 8, 9, 8, 8, 3, 8, 4, 1, 1, 2, 8, 0, 6, 1, 0, 1, 7, 7, 6, 1, 1,\n",
       "       5, 5, 2, 1, 1, 4, 1, 2, 1, 8, 5, 8, 8, 9, 5, 6, 8, 8, 3, 3, 0, 9,\n",
       "       7, 3, 4, 5, 2, 5, 4, 2, 6, 6, 1, 4, 3, 7, 8, 1, 5, 7, 1, 5, 3, 4,\n",
       "       4, 6, 7, 3, 9, 2, 1, 4, 5, 2, 9, 8, 5, 8, 5, 6, 2, 1, 9, 5, 7, 6,\n",
       "       9, 8, 8, 3, 4, 7, 0, 9, 7, 2, 3, 2, 6, 1, 9, 1, 6, 0, 5, 5, 6, 8,\n",
       "       3, 0, 9, 7, 2, 1, 0, 1, 6, 8, 7, 0, 6, 4, 8, 4, 0, 3, 4, 7, 3, 8,\n",
       "       2, 7, 0, 5, 8, 2, 1, 2, 2, 1, 7, 4, 4, 2, 4, 3, 1, 4, 3, 1, 8, 2,\n",
       "       5, 9, 8, 6, 8, 7, 7, 7, 6, 2, 6, 7, 4, 1, 4, 0, 6, 9, 0, 9, 3, 7,\n",
       "       6, 7, 3, 6, 0, 2, 2, 2, 9, 4, 9, 4, 0, 5, 8, 3, 0, 4, 8, 0, 4, 6,\n",
       "       7, 0, 2, 6, 8, 6, 9, 5, 1, 8, 1, 7, 1, 9, 3, 8, 3, 3, 9, 3, 6, 2,\n",
       "       1, 6, 1, 7, 3, 4, 5, 3, 5, 3, 6, 1, 1, 5, 8, 0, 7, 9, 8, 8, 4, 6,\n",
       "       5, 5, 8, 6, 8, 8, 2, 1, 5, 0, 7, 8, 1, 8, 0, 1, 7, 2, 0, 3, 2, 6,\n",
       "       3, 5, 9, 1, 3, 9, 6, 7, 2, 0, 4, 9, 1, 8, 1, 4, 4, 6, 2, 9, 5, 4,\n",
       "       3, 6, 1, 3, 8, 2, 2, 8, 9, 1, 1, 8, 5, 7, 7, 6, 6, 1, 9, 4, 0, 0,\n",
       "       0, 9, 8, 7, 8, 1, 4, 8, 1, 3, 2, 5, 8, 9, 9, 9, 1, 8, 7, 4, 6, 3,\n",
       "       7, 4, 1, 1, 0, 9, 1, 5, 6, 4, 8, 6, 9, 7, 6, 0, 2, 0, 2, 2, 5, 0,\n",
       "       4, 4, 7, 0, 9, 8, 0, 3, 3, 4, 4, 9, 2, 9, 3, 0, 1, 1, 1, 7, 1, 7,\n",
       "       3, 0, 4, 6, 6, 9, 3, 6, 0, 2, 8, 1, 2, 4, 2, 2, 2, 0, 4, 2, 3, 6,\n",
       "       9, 3, 8, 9, 0, 4, 1, 5, 6, 4, 5, 8, 6, 1, 0, 2, 9, 6, 3, 7, 0, 5,\n",
       "       8, 3, 3, 0, 3, 8, 7, 0, 8, 6, 6, 3, 4, 4, 9, 1, 0, 9, 5, 2, 6, 7,\n",
       "       9, 8, 7, 9, 1, 3, 3, 7, 4, 4, 9, 8])"
      ]
     },
     "execution_count": 30,
     "metadata": {},
     "output_type": "execute_result"
    }
   ],
   "source": [
    "y_pred"
   ]
  },
  {
   "cell_type": "markdown",
   "metadata": {
    "id": "x-oYblcob5FH"
   },
   "source": [
    "**Model Accuracy**"
   ]
  },
  {
   "cell_type": "code",
   "execution_count": 31,
   "metadata": {
    "id": "PZt5oQBRbwKc"
   },
   "outputs": [],
   "source": [
    "from sklearn.metrics import confusion_matrix, classification_report\n"
   ]
  },
  {
   "cell_type": "code",
   "execution_count": 32,
   "metadata": {
    "colab": {
     "base_uri": "https://localhost:8080/"
    },
    "id": "8_IpbfZRcTi0",
    "outputId": "9822a3a4-83ab-4ccc-88d0-f2fbfc92f12c"
   },
   "outputs": [
    {
     "data": {
      "text/plain": [
       "array([[51,  0,  0,  0,  2,  0,  0,  0,  0,  0],\n",
       "       [ 0, 66,  0,  0,  0,  0,  0,  0,  0,  0],\n",
       "       [ 0,  0, 52,  0,  0,  0,  0,  0,  0,  0],\n",
       "       [ 1,  0,  0, 52,  0,  1,  0,  0,  0,  0],\n",
       "       [ 0,  0,  0,  0, 52,  0,  0,  0,  0,  0],\n",
       "       [ 0,  0,  0,  0,  0, 44,  1,  0,  0,  3],\n",
       "       [ 0,  0,  0,  0,  0,  0, 55,  0,  1,  0],\n",
       "       [ 0,  0,  0,  0,  1,  0,  0, 39,  0,  0],\n",
       "       [ 0,  2,  1,  1,  0,  0,  0,  0, 58,  0],\n",
       "       [ 0,  0,  0,  1,  0,  0,  0,  5,  0, 51]])"
      ]
     },
     "execution_count": 32,
     "metadata": {},
     "output_type": "execute_result"
    }
   ],
   "source": [
    "confusion_matrix(y_test,y_pred)"
   ]
  },
  {
   "cell_type": "code",
   "execution_count": 33,
   "metadata": {
    "colab": {
     "base_uri": "https://localhost:8080/"
    },
    "id": "tKuaBW9DcbV_",
    "outputId": "f2b63d45-c4d6-43b3-80df-d80fe8d9e5e4"
   },
   "outputs": [
    {
     "name": "stdout",
     "output_type": "stream",
     "text": [
      "              precision    recall  f1-score   support\n",
      "\n",
      "           0       0.98      0.96      0.97        53\n",
      "           1       0.97      1.00      0.99        66\n",
      "           2       0.98      1.00      0.99        52\n",
      "           3       0.96      0.96      0.96        54\n",
      "           4       0.95      1.00      0.97        52\n",
      "           5       0.98      0.92      0.95        48\n",
      "           6       0.98      0.98      0.98        56\n",
      "           7       0.89      0.97      0.93        40\n",
      "           8       0.98      0.94      0.96        62\n",
      "           9       0.94      0.89      0.92        57\n",
      "\n",
      "    accuracy                           0.96       540\n",
      "   macro avg       0.96      0.96      0.96       540\n",
      "weighted avg       0.96      0.96      0.96       540\n",
      "\n"
     ]
    }
   ],
   "source": [
    "print(classification_report(y_test,y_pred))"
   ]
  }
 ],
 "metadata": {
  "colab": {
   "collapsed_sections": [],
   "name": "Hand written - Classification analysis.ipynb",
   "provenance": []
  },
  "kernelspec": {
   "display_name": "Python 3",
   "language": "python",
   "name": "python3"
  },
  "language_info": {
   "codemirror_mode": {
    "name": "ipython",
    "version": 3
   },
   "file_extension": ".py",
   "mimetype": "text/x-python",
   "name": "python",
   "nbconvert_exporter": "python",
   "pygments_lexer": "ipython3",
   "version": "3.7.6"
  }
 },
 "nbformat": 4,
 "nbformat_minor": 1
}
